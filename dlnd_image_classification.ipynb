{
 "cells": [
  {
   "cell_type": "markdown",
   "metadata": {
    "collapsed": true,
    "deletable": true,
    "editable": true
   },
   "source": [
    "# Image Classification\n",
    "In this project, you'll classify images from the [CIFAR-10 dataset](https://www.cs.toronto.edu/~kriz/cifar.html).  The dataset consists of airplanes, dogs, cats, and other objects. You'll preprocess the images, then train a convolutional neural network on all the samples. The images need to be normalized and the labels need to be one-hot encoded.  You'll get to apply what you learned and build a convolutional, max pooling, dropout, and fully connected layers.  At the end, you'll get to see your neural network's predictions on the sample images.\n",
    "## Get the Data\n",
    "Run the following cell to download the [CIFAR-10 dataset for python](https://www.cs.toronto.edu/~kriz/cifar-10-python.tar.gz)."
   ]
  },
  {
   "cell_type": "code",
   "execution_count": 1,
   "metadata": {
    "collapsed": false,
    "deletable": true,
    "editable": true
   },
   "outputs": [
    {
     "name": "stdout",
     "output_type": "stream",
     "text": [
      "All files found!\n"
     ]
    }
   ],
   "source": [
    "\"\"\"\n",
    "DON'T MODIFY ANYTHING IN THIS CELL THAT IS BELOW THIS LINE\n",
    "\"\"\"\n",
    "from urllib.request import urlretrieve\n",
    "from os.path import isfile, isdir\n",
    "from tqdm import tqdm\n",
    "import problem_unittests as tests\n",
    "import tarfile\n",
    "\n",
    "cifar10_dataset_folder_path = 'cifar-10-batches-py'\n",
    "\n",
    "class DLProgress(tqdm):\n",
    "    last_block = 0\n",
    "\n",
    "    def hook(self, block_num=1, block_size=1, total_size=None):\n",
    "        self.total = total_size\n",
    "        self.update((block_num - self.last_block) * block_size)\n",
    "        self.last_block = block_num\n",
    "\n",
    "if not isfile('cifar-10-python.tar.gz'):\n",
    "    with DLProgress(unit='B', unit_scale=True, miniters=1, desc='CIFAR-10 Dataset') as pbar:\n",
    "        urlretrieve(\n",
    "            'https://www.cs.toronto.edu/~kriz/cifar-10-python.tar.gz',\n",
    "            'cifar-10-python.tar.gz',\n",
    "            pbar.hook)\n",
    "\n",
    "if not isdir(cifar10_dataset_folder_path):\n",
    "    with tarfile.open('cifar-10-python.tar.gz') as tar:\n",
    "        tar.extractall()\n",
    "        tar.close()\n",
    "\n",
    "\n",
    "tests.test_folder_path(cifar10_dataset_folder_path)"
   ]
  },
  {
   "cell_type": "markdown",
   "metadata": {
    "deletable": true,
    "editable": true
   },
   "source": [
    "## Explore the Data\n",
    "The dataset is broken into batches to prevent your machine from running out of memory.  The CIFAR-10 dataset consists of 5 batches, named `data_batch_1`, `data_batch_2`, etc.. Each batch contains the labels and images that are one of the following:\n",
    "* airplane\n",
    "* automobile\n",
    "* bird\n",
    "* cat\n",
    "* deer\n",
    "* dog\n",
    "* frog\n",
    "* horse\n",
    "* ship\n",
    "* truck\n",
    "\n",
    "Understanding a dataset is part of making predictions on the data.  Play around with the code cell below by changing the `batch_id` and `sample_id`. The `batch_id` is the id for a batch (1-5). The `sample_id` is the id for a image and label pair in the batch.\n",
    "\n",
    "Ask yourself \"What are all possible labels?\", \"What is the range of values for the image data?\", \"Are the labels in order or random?\".  Answers to questions like these will help you preprocess the data and end up with better predictions."
   ]
  },
  {
   "cell_type": "code",
   "execution_count": 2,
   "metadata": {
    "collapsed": false,
    "deletable": true,
    "editable": true
   },
   "outputs": [
    {
     "name": "stdout",
     "output_type": "stream",
     "text": [
      "\n",
      "Stats of batch 1:\n",
      "Samples: 10000\n",
      "Label Counts: {0: 1005, 1: 974, 2: 1032, 3: 1016, 4: 999, 5: 937, 6: 1030, 7: 1001, 8: 1025, 9: 981}\n",
      "First 20 Labels: [6, 9, 9, 4, 1, 1, 2, 7, 8, 3, 4, 7, 7, 2, 9, 9, 9, 3, 2, 6]\n",
      "\n",
      "Example of Image 5:\n",
      "Image - Min Value: 0 Max Value: 252\n",
      "Image - Shape: (32, 32, 3)\n",
      "Label - Label Id: 1 Name: automobile\n"
     ]
    },
    {
     "data": {
      "image/png": "[encoded data removed]",
      "text/plain": [
       "<matplotlib.figure.Figure at 0x28c700dcef0>"
      ]
     },
     "metadata": {
      "image/png": {
       "height": 250,
       "width": 253
      }
     },
     "output_type": "display_data"
    }
   ],
   "source": [
    "%matplotlib inline\n",
    "%config InlineBackend.figure_format = 'retina'\n",
    "\n",
    "import helper\n",
    "import numpy as np\n",
    "\n",
    "# Explore the dataset\n",
    "batch_id = 1\n",
    "sample_id = 5\n",
    "helper.display_stats(cifar10_dataset_folder_path, batch_id, sample_id)"
   ]
  },
  {
   "cell_type": "markdown",
   "metadata": {
    "deletable": true,
    "editable": true
   },
   "source": [
    "## Implement Preprocess Functions\n",
    "### Normalize\n",
    "In the cell below, implement the `normalize` function to take in image data, `x`, and return it as a normalized Numpy array. The values should be in the range of 0 to 1, inclusive.  The return object should be the same shape as `x`."
   ]
  },
  {
   "cell_type": "code",
   "execution_count": 3,
   "metadata": {
    "collapsed": false,
    "deletable": true,
    "editable": true
   },
   "outputs": [
    {
     "name": "stdout",
     "output_type": "stream",
     "text": [
      "Tests Passed\n"
     ]
    }
   ],
   "source": [
    "def normalize(x):\n",
    "    \"\"\"\n",
    "    Normalize a list of sample image data in the range of 0 to 1\n",
    "    : x: List of image data.  The image shape is (32, 32, 3)\n",
    "    : return: Numpy array of normalize data\n",
    "    \"\"\"\n",
    "    # TODO: Implement Function\n",
    "    grayscale_min = 0\n",
    "    grayscale_max = 255\n",
    "    return ((x - grayscale_min)/( grayscale_max - grayscale_min ))\n",
    "\n",
    "\"\"\"\n",
    "DON'T MODIFY ANYTHING IN THIS CELL THAT IS BELOW THIS LINE\n",
    "\"\"\"\n",
    "tests.test_normalize(normalize)"
   ]
  },
  {
   "cell_type": "markdown",
   "metadata": {
    "deletable": true,
    "editable": true
   },
   "source": [
    "### One-hot encode\n",
    "Just like the previous code cell, you'll be implementing a function for preprocessing.  This time, you'll implement the `one_hot_encode` function. The input, `x`, are a list of labels.  Implement the function to return the list of labels as One-Hot encoded Numpy array.  The possible values for labels are 0 to 9. The one-hot encoding function should return the same encoding for each value between each call to `one_hot_encode`.  Make sure to save the map of encodings outside the function.\n",
    "\n",
    "Hint: Don't reinvent the wheel."
   ]
  },
  {
   "cell_type": "code",
   "execution_count": 4,
   "metadata": {
    "collapsed": false,
    "deletable": true,
    "editable": true
   },
   "outputs": [
    {
     "name": "stdout",
     "output_type": "stream",
     "text": [
      "Tests Passed\n"
     ]
    }
   ],
   "source": [
    "from sklearn.preprocessing import LabelBinarizer\n",
    "def one_hot_encode(x):\n",
    "    \"\"\"\n",
    "    One hot encode a list of sample labels. Return a one-hot encoded vector for each label.\n",
    "    : x: List of sample Labels\n",
    "    : return: Numpy array of one-hot encoded labels\n",
    "    \"\"\"\n",
    "    # TODO: Implement Function\n",
    "    encoder = LabelBinarizer()\n",
    "    encoder.fit(np.array([0,1,2,3,4,5,6,7,8,9]))\n",
    "    return encoder.transform(x)\n",
    "\n",
    "\"\"\"\n",
    "DON'T MODIFY ANYTHING IN THIS CELL THAT IS BELOW THIS LINE\n",
    "\"\"\"\n",
    "tests.test_one_hot_encode(one_hot_encode)"
   ]
  },
  {
   "cell_type": "markdown",
   "metadata": {
    "deletable": true,
    "editable": true
   },
   "source": [
    "### Randomize Data\n",
    "As you saw from exploring the data above, the order of the samples are randomized.  It doesn't hurt to randomize it again, but you don't need to for this dataset."
   ]
  },
  {
   "cell_type": "markdown",
   "metadata": {
    "deletable": true,
    "editable": true
   },
   "source": [
    "## Preprocess all the data and save it\n",
    "Running the code cell below will preprocess all the CIFAR-10 data and save it to file. The code below also uses 10% of the training data for validation."
   ]
  },
  {
   "cell_type": "code",
   "execution_count": 5,
   "metadata": {
    "collapsed": false,
    "deletable": true,
    "editable": true
   },
   "outputs": [],
   "source": [
    "\"\"\"\n",
    "DON'T MODIFY ANYTHING IN THIS CELL\n",
    "\"\"\"\n",
    "# Preprocess Training, Validation, and Testing Data\n",
    "helper.preprocess_and_save_data(cifar10_dataset_folder_path, normalize, one_hot_encode)"
   ]
  },
  {
   "cell_type": "markdown",
   "metadata": {
    "deletable": true,
    "editable": true
   },
   "source": [
    "# Check Point\n",
    "This is your first checkpoint.  If you ever decide to come back to this notebook or have to restart the notebook, you can start from here.  The preprocessed data has been saved to disk."
   ]
  },
  {
   "cell_type": "code",
   "execution_count": 6,
   "metadata": {
    "collapsed": true,
    "deletable": true,
    "editable": true
   },
   "outputs": [],
   "source": [
    "\"\"\"\n",
    "DON'T MODIFY ANYTHING IN THIS CELL\n",
    "\"\"\"\n",
    "import pickle\n",
    "import problem_unittests as tests\n",
    "import helper\n",
    "\n",
    "# Load the Preprocessed Validation data\n",
    "valid_features, valid_labels = pickle.load(open('preprocess_validation.p', mode='rb'))"
   ]
  },
  {
   "cell_type": "markdown",
   "metadata": {
    "deletable": true,
    "editable": true
   },
   "source": [
    "## Build the network\n",
    "For the neural network, you'll build each layer into a function.  Most of the code you've seen has been outside of functions. To test your code more thoroughly, we require that you put each layer in a function.  This allows us to give you better feedback and test for simple mistakes using our unittests before you submit your project.\n",
    "\n",
    ">**Note:** If you're finding it hard to dedicate enough time for this course each week, we've provided a small shortcut to this part of the project. In the next couple of problems, you'll have the option to use classes from the [TensorFlow Layers](https://www.tensorflow.org/api_docs/python/tf/layers) or [TensorFlow Layers (contrib)](https://www.tensorflow.org/api_guides/python/contrib.layers) packages to build each layer, except the layers you build in the \"Convolutional and Max Pooling Layer\" section.  TF Layers is similar to Keras's and TFLearn's abstraction to layers, so it's easy to pickup.\n",
    "\n",
    ">However, if you would like to get the most out of this course, try to solve all the problems _without_ using anything from the TF Layers packages. You **can** still use classes from other packages that happen to have the same name as ones you find in TF Layers! For example, instead of using the TF Layers version of the `conv2d` class, [tf.layers.conv2d](https://www.tensorflow.org/api_docs/python/tf/layers/conv2d), you would want to use the TF Neural Network version of `conv2d`, [tf.nn.conv2d](https://www.tensorflow.org/api_docs/python/tf/nn/conv2d). \n",
    "\n",
    "Let's begin!\n",
    "\n",
    "### Input\n",
    "The neural network needs to read the image data, one-hot encoded labels, and dropout keep probability. Implement the following functions\n",
    "* Implement `neural_net_image_input`\n",
    " * Return a [TF Placeholder](https://www.tensorflow.org/api_docs/python/tf/placeholder)\n",
    " * Set the shape using `image_shape` with batch size set to `None`.\n",
    " * Name the TensorFlow placeholder \"x\" using the TensorFlow `name` parameter in the [TF Placeholder](https://www.tensorflow.org/api_docs/python/tf/placeholder).\n",
    "* Implement `neural_net_label_input`\n",
    " * Return a [TF Placeholder](https://www.tensorflow.org/api_docs/python/tf/placeholder)\n",
    " * Set the shape using `n_classes` with batch size set to `None`.\n",
    " * Name the TensorFlow placeholder \"y\" using the TensorFlow `name` parameter in the [TF Placeholder](https://www.tensorflow.org/api_docs/python/tf/placeholder).\n",
    "* Implement `neural_net_keep_prob_input`\n",
    " * Return a [TF Placeholder](https://www.tensorflow.org/api_docs/python/tf/placeholder) for dropout keep probability.\n",
    " * Name the TensorFlow placeholder \"keep_prob\" using the TensorFlow `name` parameter in the [TF Placeholder](https://www.tensorflow.org/api_docs/python/tf/placeholder).\n",
    "\n",
    "These names will be used at the end of the project to load your saved model.\n",
    "\n",
    "Note: `None` for shapes in TensorFlow allow for a dynamic size."
   ]
  },
  {
   "cell_type": "code",
   "execution_count": 7,
   "metadata": {
    "collapsed": false,
    "deletable": true,
    "editable": true
   },
   "outputs": [
    {
     "name": "stdout",
     "output_type": "stream",
     "text": [
      "Image Input Tests Passed.\n",
      "Label Input Tests Passed.\n",
      "Keep Prob Tests Passed.\n"
     ]
    }
   ],
   "source": [
    "import tensorflow as tf\n",
    "\n",
    "def neural_net_image_input(image_shape):\n",
    "    \"\"\"\n",
    "    Return a Tensor for a batch of image input\n",
    "    : image_shape: Shape of the images\n",
    "    : return: Tensor for image input.\n",
    "    \"\"\"\n",
    "    # TODO: Implement Function\n",
    "    return tf.placeholder(tf.float32, shape=[None] + list(image_shape), name = 'x')\n",
    "\n",
    "def neural_net_label_input(n_classes):\n",
    "    \"\"\"\n",
    "    Return a Tensor for a batch of label input\n",
    "    : n_classes: Number of classes\n",
    "    : return: Tensor for label input.\n",
    "    \"\"\"\n",
    "    # TODO: Implement Function\n",
    "    return tf.placeholder(tf.float32, shape=[None , n_classes], name = 'y')\n",
    "\n",
    "def neural_net_keep_prob_input():\n",
    "    \"\"\"\n",
    "    Return a Tensor for keep probability\n",
    "    : return: Tensor for keep probability.\n",
    "    \"\"\"\n",
    "    # TODO: Implement Function\n",
    "    return tf.placeholder(tf.float32, shape=None, name = 'keep_prob')\n",
    "\n",
    "\"\"\"\n",
    "DON'T MODIFY ANYTHING IN THIS CELL THAT IS BELOW THIS LINE\n",
    "\"\"\"\n",
    "tf.reset_default_graph()\n",
    "tests.test_nn_image_inputs(neural_net_image_input)\n",
    "tests.test_nn_label_inputs(neural_net_label_input)\n",
    "tests.test_nn_keep_prob_inputs(neural_net_keep_prob_input)"
   ]
  },
  {
   "cell_type": "markdown",
   "metadata": {
    "deletable": true,
    "editable": true
   },
   "source": [
    "### Convolution and Max Pooling Layer\n",
    "Convolution layers have a lot of success with images. For this code cell, you should implement the function `conv2d_maxpool` to apply convolution then max pooling:\n",
    "* Create the weight and bias using `conv_ksize`, `conv_num_outputs` and the shape of `x_tensor`.\n",
    "* Apply a convolution to `x_tensor` using weight and `conv_strides`.\n",
    " * We recommend you use same padding, but you're welcome to use any padding.\n",
    "* Add bias\n",
    "* Add a nonlinear activation to the convolution.\n",
    "* Apply Max Pooling using `pool_ksize` and `pool_strides`.\n",
    " * We recommend you use same padding, but you're welcome to use any padding.\n",
    "\n",
    "**Note:** You **can't** use [TensorFlow Layers](https://www.tensorflow.org/api_docs/python/tf/layers) or [TensorFlow Layers (contrib)](https://www.tensorflow.org/api_guides/python/contrib.layers) for **this** layer, but you can still use TensorFlow's [Neural Network](https://www.tensorflow.org/api_docs/python/tf/nn) package. You may still use the shortcut option for all the **other** layers."
   ]
  },
  {
   "cell_type": "code",
   "execution_count": 8,
   "metadata": {
    "collapsed": false,
    "deletable": true,
    "editable": true
   },
   "outputs": [
    {
     "name": "stdout",
     "output_type": "stream",
     "text": [
      "Tests Passed\n"
     ]
    }
   ],
   "source": [
    "def conv2d_maxpool(x_tensor, conv_num_outputs, conv_ksize, conv_strides, pool_ksize, pool_strides):\n",
    "    \"\"\"\n",
    "    Apply convolution then max pooling to x_tensor\n",
    "    :param x_tensor: TensorFlow Tensor\n",
    "    :param conv_num_outputs: Number of outputs for the convolutional layer\n",
    "    :param conv_ksize: kernal size 2-D Tuple for the convolutional layer\n",
    "    :param conv_strides: Stride 2-D Tuple for convolution\n",
    "    :param pool_ksize: kernal size 2-D Tuple for pool\n",
    "    :param pool_strides: Stride 2-D Tuple for pool\n",
    "    : return: A tensor that represents convolution and max pooling of x_tensor\n",
    "    \"\"\"\n",
    "    # TODO: Implement Function\n",
    "    weights = tf.Variable(tf.truncated_normal((conv_ksize[0], conv_ksize[1], \n",
    "                                               x_tensor.get_shape().as_list()[3], conv_num_outputs)))\n",
    "    bias = tf.Variable(tf.zeros(conv_num_outputs))\n",
    "    conv = tf.add(tf.nn.conv2d(x_tensor, weights, [1, conv_strides[0], conv_strides[1], 1], 'SAME'), bias)\n",
    "    \n",
    "    relu = tf.nn.relu(conv)\n",
    "    maxpool = tf.nn.max_pool(relu, [1, pool_ksize[0], pool_ksize[1],1], \n",
    "                             [1, pool_strides[0], pool_strides[1], 1], 'SAME')\n",
    "    return maxpool\n",
    "\n",
    "\"\"\"\n",
    "DON'T MODIFY ANYTHING IN THIS CELL THAT IS BELOW THIS LINE\n",
    "\"\"\"\n",
    "tests.test_con_pool(conv2d_maxpool)"
   ]
  },
  {
   "cell_type": "markdown",
   "metadata": {
    "deletable": true,
    "editable": true
   },
   "source": [
    "### Flatten Layer\n",
    "Implement the `flatten` function to change the dimension of `x_tensor` from a 4-D tensor to a 2-D tensor.  The output should be the shape (*Batch Size*, *Flattened Image Size*). Shortcut option: you can use classes from the [TensorFlow Layers](https://www.tensorflow.org/api_docs/python/tf/layers) or [TensorFlow Layers (contrib)](https://www.tensorflow.org/api_guides/python/contrib.layers) packages for this layer. For more of a challenge, only use other TensorFlow packages."
   ]
  },
  {
   "cell_type": "code",
   "execution_count": 9,
   "metadata": {
    "collapsed": false,
    "deletable": true,
    "editable": true
   },
   "outputs": [
    {
     "name": "stdout",
     "output_type": "stream",
     "text": [
      "Tests Passed\n"
     ]
    }
   ],
   "source": [
    "def flatten(x_tensor):\n",
    "    \"\"\"\n",
    "    Flatten x_tensor to (Batch Size, Flattened Image Size)\n",
    "    : x_tensor: A tensor of size (Batch Size, ...), where ... are the image dimensions.\n",
    "    : return: A tensor of size (Batch Size, Flattened Image Size).\n",
    "    \"\"\"\n",
    "    # TODO: Implement Function\n",
    "    return tf.reshape(x_tensor, [-1, int(x_tensor.shape[1]) * int(x_tensor.shape[2]) * int(x_tensor.shape[3])])\n",
    "\n",
    "\n",
    "\"\"\"\n",
    "DON'T MODIFY ANYTHING IN THIS CELL THAT IS BELOW THIS LINE\n",
    "\"\"\"\n",
    "tests.test_flatten(flatten)"
   ]
  },
  {
   "cell_type": "markdown",
   "metadata": {
    "deletable": true,
    "editable": true
   },
   "source": [
    "### Fully-Connected Layer\n",
    "Implement the `fully_conn` function to apply a fully connected layer to `x_tensor` with the shape (*Batch Size*, *num_outputs*). Shortcut option: you can use classes from the [TensorFlow Layers](https://www.tensorflow.org/api_docs/python/tf/layers) or [TensorFlow Layers (contrib)](https://www.tensorflow.org/api_guides/python/contrib.layers) packages for this layer. For more of a challenge, only use other TensorFlow packages."
   ]
  },
  {
   "cell_type": "code",
   "execution_count": 10,
   "metadata": {
    "collapsed": false,
    "deletable": true,
    "editable": true
   },
   "outputs": [
    {
     "name": "stdout",
     "output_type": "stream",
     "text": [
      "Tests Passed\n"
     ]
    }
   ],
   "source": [
    "def fully_conn(x_tensor, num_outputs):\n",
    "    \"\"\"\n",
    "    Apply a fully connected layer to x_tensor using weight and bias\n",
    "    : x_tensor: A 2-D tensor where the first dimension is batch size.\n",
    "    : num_outputs: The number of output that the new tensor should be.\n",
    "    : return: A 2-D tensor where the second dimension is num_outputs.\n",
    "    \"\"\"\n",
    "    # TODO: Implement Function\n",
    "    weights = tf.Variable(tf.truncated_normal([x_tensor.get_shape().as_list()[1], num_outputs], mean=0.0, stddev=0.01))\n",
    "    biases = tf.Variable(tf.zeros(num_outputs))\n",
    "    logits = tf.add(tf.matmul(x_tensor, weights), biases)\n",
    "    return tf.nn.relu(logits)\n",
    "\n",
    "\"\"\"\n",
    "DON'T MODIFY ANYTHING IN THIS CELL THAT IS BELOW THIS LINE\n",
    "\"\"\"\n",
    "tests.test_fully_conn(fully_conn)"
   ]
  },
  {
   "cell_type": "markdown",
   "metadata": {
    "deletable": true,
    "editable": true
   },
   "source": [
    "### Output Layer\n",
    "Implement the `output` function to apply a fully connected layer to `x_tensor` with the shape (*Batch Size*, *num_outputs*). Shortcut option: you can use classes from the [TensorFlow Layers](https://www.tensorflow.org/api_docs/python/tf/layers) or [TensorFlow Layers (contrib)](https://www.tensorflow.org/api_guides/python/contrib.layers) packages for this layer. For more of a challenge, only use other TensorFlow packages.\n",
    "\n",
    "**Note:** Activation, softmax, or cross entropy should **not** be applied to this."
   ]
  },
  {
   "cell_type": "code",
   "execution_count": 11,
   "metadata": {
    "collapsed": false,
    "deletable": true,
    "editable": true
   },
   "outputs": [
    {
     "name": "stdout",
     "output_type": "stream",
     "text": [
      "Tests Passed\n"
     ]
    }
   ],
   "source": [
    "def output(x_tensor, num_outputs):\n",
    "    \"\"\"\n",
    "    Apply a output layer to x_tensor using weight and bias\n",
    "    : x_tensor: A 2-D tensor where the first dimension is batch size.\n",
    "    : num_outputs: The number of output that the new tensor should be.\n",
    "    : return: A 2-D tensor where the second dimension is num_outputs.\n",
    "    \"\"\"\n",
    "    # TODO: Implement Function\n",
    "    weights = tf.Variable(tf.truncated_normal([x_tensor.get_shape().as_list()[1], num_outputs], mean=0.0, stddev=0.0))\n",
    "    biases = tf.Variable(tf.zeros(num_outputs))\n",
    "    logits = tf.add(tf.matmul(x_tensor, weights), biases)\n",
    "    return logits\n",
    "\n",
    "\n",
    "\"\"\"\n",
    "DON'T MODIFY ANYTHING IN THIS CELL THAT IS BELOW THIS LINE\n",
    "\"\"\"\n",
    "tests.test_output(output)"
   ]
  },
  {
   "cell_type": "markdown",
   "metadata": {
    "deletable": true,
    "editable": true
   },
   "source": [
    "### Create Convolutional Model\n",
    "Implement the function `conv_net` to create a convolutional neural network model. The function takes in a batch of images, `x`, and outputs logits.  Use the layers you created above to create this model:\n",
    "\n",
    "* Apply 1, 2, or 3 Convolution and Max Pool layers\n",
    "* Apply a Flatten Layer\n",
    "* Apply 1, 2, or 3 Fully Connected Layers\n",
    "* Apply an Output Layer\n",
    "* Return the output\n",
    "* Apply [TensorFlow's Dropout](https://www.tensorflow.org/api_docs/python/tf/nn/dropout) to one or more layers in the model using `keep_prob`. "
   ]
  },
  {
   "cell_type": "code",
   "execution_count": 12,
   "metadata": {
    "collapsed": false,
    "deletable": true,
    "editable": true
   },
   "outputs": [
    {
     "name": "stdout",
     "output_type": "stream",
     "text": [
      "Neural Network Built!\n"
     ]
    }
   ],
   "source": [
    "def conv_net(x, keep_prob):\n",
    "    \"\"\"\n",
    "    Create a convolutional neural network model\n",
    "    : x: Placeholder tensor that holds image data.\n",
    "    : keep_prob: Placeholder tensor that hold dropout keep probability.\n",
    "    : return: Tensor that represents logits\n",
    "    \"\"\"\n",
    "    # TODO: Apply 1, 2, or 3 Convolution and Max Pool layers\n",
    "    #    Play around with different number of outputs, kernel size and stride\n",
    "    # Function Definition from Above:\n",
    "    #    conv2d_maxpool(x_tensor, conv_num_outputs, conv_ksize, conv_strides, pool_ksize, pool_strides)\n",
    "    \n",
    "    x = conv2d_maxpool(x, conv_num_outputs = 16, conv_ksize = (5, 5), \n",
    "                   conv_strides = (1, 1), pool_ksize = (2, 2), pool_strides = (1, 1))    \n",
    "    x = tf.nn.dropout(x, keep_prob)\n",
    "    \n",
    "    \"\"\"\n",
    "    # TODO: Apply a Flatten Layer\n",
    "    # Function Definition from Above:\n",
    "    #   flatten(x_tensor)\n",
    "    \"\"\"\n",
    "    x = flatten(x)    \n",
    "\n",
    "    # TODO: Apply 1, 2, or 3 Fully Connected Layers\n",
    "    #    Play around with different number of outputs\n",
    "    # Function Definition from Above:\n",
    "    #   fully_conn(x_tensor, num_outputs)\n",
    "    x = fully_conn(x, 120)\n",
    "\n",
    "    # TODO: Apply an Output Layer\n",
    "    #    Set this to the number of classes\n",
    "    # Function Definition from Above:\n",
    "    x = output(x, 10)\n",
    "    \n",
    "    # TODO: return output\n",
    "    return x\n",
    "\n",
    "\n",
    "\"\"\"\n",
    "DON'T MODIFY ANYTHING IN THIS CELL THAT IS BELOW THIS LINE\n",
    "\"\"\"\n",
    "\n",
    "##############################\n",
    "## Build the Neural Network ##\n",
    "##############################\n",
    "\n",
    "# Remove previous weights, bias, inputs, etc..\n",
    "tf.reset_default_graph()\n",
    "\n",
    "# Inputs\n",
    "x = neural_net_image_input((32, 32, 3))\n",
    "y = neural_net_label_input(10)\n",
    "keep_prob = neural_net_keep_prob_input()\n",
    "\n",
    "# Model\n",
    "logits = conv_net(x, keep_prob)\n",
    "\n",
    "# Name logits Tensor, so that is can be loaded from disk after training\n",
    "logits = tf.identity(logits, name='logits')\n",
    "\n",
    "# Loss and Optimizer\n",
    "cost = tf.reduce_mean(tf.nn.softmax_cross_entropy_with_logits(logits=logits, labels=y))\n",
    "optimizer = tf.train.AdamOptimizer().minimize(cost)\n",
    "\n",
    "# Accuracy\n",
    "correct_pred = tf.equal(tf.argmax(logits, 1), tf.argmax(y, 1))\n",
    "accuracy = tf.reduce_mean(tf.cast(correct_pred, tf.float32), name='accuracy')\n",
    "\n",
    "tests.test_conv_net(conv_net)"
   ]
  },
  {
   "cell_type": "markdown",
   "metadata": {
    "deletable": true,
    "editable": true
   },
   "source": [
    "## Train the Neural Network\n",
    "### Single Optimization\n",
    "Implement the function `train_neural_network` to do a single optimization.  The optimization should use `optimizer` to optimize in `session` with a `feed_dict` of the following:\n",
    "* `x` for image input\n",
    "* `y` for labels\n",
    "* `keep_prob` for keep probability for dropout\n",
    "\n",
    "This function will be called for each batch, so `tf.global_variables_initializer()` has already been called.\n",
    "\n",
    "Note: Nothing needs to be returned. This function is only optimizing the neural network."
   ]
  },
  {
   "cell_type": "code",
   "execution_count": 13,
   "metadata": {
    "collapsed": false,
    "deletable": true,
    "editable": true
   },
   "outputs": [
    {
     "name": "stdout",
     "output_type": "stream",
     "text": [
      "Tests Passed\n"
     ]
    }
   ],
   "source": [
    "def train_neural_network(session, optimizer, keep_probability, feature_batch, label_batch):\n",
    "    \"\"\"\n",
    "    Optimize the session on a batch of images and labels\n",
    "    : session: Current TensorFlow session\n",
    "    : optimizer: TensorFlow optimizer function\n",
    "    : keep_probability: keep probability\n",
    "    : feature_batch: Batch of Numpy image data\n",
    "    : label_batch: Batch of Numpy label data\n",
    "    \"\"\"\n",
    "    # TODO: Implement Function\n",
    "    session.run(optimizer, feed_dict = {x : feature_batch, y : label_batch, keep_prob : keep_probability})\n",
    "    pass\n",
    "\n",
    "\n",
    "\"\"\"\n",
    "DON'T MODIFY ANYTHING IN THIS CELL THAT IS BELOW THIS LINE\n",
    "\"\"\"\n",
    "tests.test_train_nn(train_neural_network)"
   ]
  },
  {
   "cell_type": "markdown",
   "metadata": {
    "deletable": true,
    "editable": true
   },
   "source": [
    "### Show Stats\n",
    "Implement the function `print_stats` to print loss and validation accuracy.  Use the global variables `valid_features` and `valid_labels` to calculate validation accuracy.  Use a keep probability of `1.0` to calculate the loss and validation accuracy."
   ]
  },
  {
   "cell_type": "code",
   "execution_count": 14,
   "metadata": {
    "collapsed": false,
    "deletable": true,
    "editable": true
   },
   "outputs": [],
   "source": [
    "def print_stats(session, feature_batch, label_batch, cost, accuracy):\n",
    "    \"\"\"\n",
    "    Print information about loss and validation accuracy\n",
    "    : session: Current TensorFlow session\n",
    "    : feature_batch: Batch of Numpy image data\n",
    "    : label_batch: Batch of Numpy label data\n",
    "    : cost: TensorFlow cost function\n",
    "    : accuracy: TensorFlow accuracy function\n",
    "    \"\"\"\n",
    "    # TODO: Implement Function\n",
    "    loss = session.run(cost, feed_dict = {x : feature_batch, y : label_batch, keep_prob : 0.6} )\n",
    "    accuracy = session.run(accuracy, feed_dict = {x : valid_features, y : valid_labels, keep_prob : 1.0})\n",
    "    print(\"LOSS: {} ACCURACY: {}\".format(loss, accuracy))"
   ]
  },
  {
   "cell_type": "markdown",
   "metadata": {
    "deletable": true,
    "editable": true
   },
   "source": [
    "### Hyperparameters\n",
    "Tune the following parameters:\n",
    "* Set `epochs` to the number of iterations until the network stops learning or start overfitting\n",
    "* Set `batch_size` to the highest number that your machine has memory for.  Most people set them to common sizes of memory:\n",
    " * 64\n",
    " * 128\n",
    " * 256\n",
    " * ...\n",
    "* Set `keep_probability` to the probability of keeping a node using dropout"
   ]
  },
  {
   "cell_type": "code",
   "execution_count": 15,
   "metadata": {
    "collapsed": true,
    "deletable": true,
    "editable": true
   },
   "outputs": [],
   "source": [
    "# TODO: Tune Parameters\n",
    "epochs = 25\n",
    "batch_size = 64\n",
    "keep_probability = 0.5"
   ]
  },
  {
   "cell_type": "markdown",
   "metadata": {
    "deletable": true,
    "editable": true
   },
   "source": [
    "### Train on a Single CIFAR-10 Batch\n",
    "Instead of training the neural network on all the CIFAR-10 batches of data, let's use a single batch. This should save time while you iterate on the model to get a better accuracy.  Once the final validation accuracy is 50% or greater, run the model on all the data in the next section."
   ]
  },
  {
   "cell_type": "code",
   "execution_count": 16,
   "metadata": {
    "collapsed": false,
    "deletable": true,
    "editable": true
   },
   "outputs": [
    {
     "name": "stdout",
     "output_type": "stream",
     "text": [
      "Checking the Training on a Single Batch...\n",
      "Epoch  1, CIFAR-10 Batch 1:  LOSS: 1.9620283842086792 ACCURACY: 0.37599998712539673\n",
      "Epoch  2, CIFAR-10 Batch 1:  LOSS: 1.740255355834961 ACCURACY: 0.43699994683265686\n",
      "Epoch  3, CIFAR-10 Batch 1:  LOSS: 1.4899730682373047 ACCURACY: 0.4763999581336975\n",
      "Epoch  4, CIFAR-10 Batch 1:  LOSS: 1.3825581073760986 ACCURACY: 0.48339998722076416\n",
      "Epoch  5, CIFAR-10 Batch 1:  LOSS: 1.3401250839233398 ACCURACY: 0.486799955368042\n",
      "Epoch  6, CIFAR-10 Batch 1:  LOSS: 1.2457681894302368 ACCURACY: 0.4981999099254608\n",
      "Epoch  7, CIFAR-10 Batch 1:  LOSS: 1.121536374092102 ACCURACY: 0.4931999444961548\n",
      "Epoch  8, CIFAR-10 Batch 1:  LOSS: 0.9463611841201782 ACCURACY: 0.49599993228912354\n",
      "Epoch  9, CIFAR-10 Batch 1:  LOSS: 0.9097276926040649 ACCURACY: 0.5031999945640564\n",
      "Epoch 10, CIFAR-10 Batch 1:  LOSS: 0.8867238163948059 ACCURACY: 0.4957999587059021\n",
      "Epoch 11, CIFAR-10 Batch 1:  LOSS: 0.8186601400375366 ACCURACY: 0.5007999539375305\n",
      "Epoch 12, CIFAR-10 Batch 1:  LOSS: 0.7189277410507202 ACCURACY: 0.5047999024391174\n",
      "Epoch 13, CIFAR-10 Batch 1:  LOSS: 0.7525926232337952 ACCURACY: 0.49599993228912354\n",
      "Epoch 14, CIFAR-10 Batch 1:  LOSS: 0.7189016342163086 ACCURACY: 0.5099999904632568\n",
      "Epoch 15, CIFAR-10 Batch 1:  LOSS: 0.6074237823486328 ACCURACY: 0.5123999714851379\n",
      "Epoch 16, CIFAR-10 Batch 1:  LOSS: 0.48600852489471436 ACCURACY: 0.5077999830245972\n",
      "Epoch 17, CIFAR-10 Batch 1:  LOSS: 0.5178818106651306 ACCURACY: 0.5041999816894531\n",
      "Epoch 18, CIFAR-10 Batch 1:  LOSS: 0.509017825126648 ACCURACY: 0.5089998841285706\n",
      "Epoch 19, CIFAR-10 Batch 1:  LOSS: 0.41504064202308655 ACCURACY: 0.5037999153137207\n",
      "Epoch 20, CIFAR-10 Batch 1:  LOSS: 0.35504239797592163 ACCURACY: 0.5073999166488647\n",
      "Epoch 21, CIFAR-10 Batch 1:  LOSS: 0.41708263754844666 ACCURACY: 0.5229999423027039\n",
      "Epoch 22, CIFAR-10 Batch 1:  LOSS: 0.35630932450294495 ACCURACY: 0.5201999545097351\n",
      "Epoch 23, CIFAR-10 Batch 1:  LOSS: 0.40292906761169434 ACCURACY: 0.5133999586105347\n",
      "Epoch 24, CIFAR-10 Batch 1:  LOSS: 0.3669551610946655 ACCURACY: 0.5149999260902405\n",
      "Epoch 25, CIFAR-10 Batch 1:  LOSS: 0.31358611583709717 ACCURACY: 0.5145999789237976\n"
     ]
    }
   ],
   "source": [
    "\"\"\"\n",
    "DON'T MODIFY ANYTHING IN THIS CELL\n",
    "\"\"\"\n",
    "print('Checking the Training on a Single Batch...')\n",
    "with tf.Session() as sess:\n",
    "    # Initializing the variables\n",
    "    sess.run(tf.global_variables_initializer())\n",
    "    \n",
    "    # Training cycle\n",
    "    for epoch in range(epochs):\n",
    "        batch_i = 1\n",
    "        for batch_features, batch_labels in helper.load_preprocess_training_batch(batch_i, batch_size):\n",
    "            train_neural_network(sess, optimizer, keep_probability, batch_features, batch_labels)\n",
    "        print('Epoch {:>2}, CIFAR-10 Batch {}:  '.format(epoch + 1, batch_i), end='')\n",
    "        print_stats(sess, batch_features, batch_labels, cost, accuracy)"
   ]
  },
  {
   "cell_type": "markdown",
   "metadata": {
    "deletable": true,
    "editable": true
   },
   "source": [
    "### Fully Train the Model\n",
    "Now that you got a good accuracy with a single CIFAR-10 batch, try it with all five batches."
   ]
  },
  {
   "cell_type": "code",
   "execution_count": 17,
   "metadata": {
    "collapsed": false,
    "deletable": true,
    "editable": true
   },
   "outputs": [
    {
     "name": "stdout",
     "output_type": "stream",
     "text": [
      "Training...\n",
      "Epoch  1, CIFAR-10 Batch 1:  LOSS: 2.189208745956421 ACCURACY: 0.31699997186660767\n",
      "Epoch  1, CIFAR-10 Batch 2:  LOSS: 1.7614390850067139 ACCURACY: 0.3893999755382538\n",
      "Epoch  1, CIFAR-10 Batch 3:  LOSS: 1.4774965047836304 ACCURACY: 0.408799946308136\n",
      "Epoch  1, CIFAR-10 Batch 4:  LOSS: 1.5399543046951294 ACCURACY: 0.4373999834060669\n",
      "Epoch  1, CIFAR-10 Batch 5:  LOSS: 1.4647407531738281 ACCURACY: 0.47099992632865906\n",
      "Epoch  2, CIFAR-10 Batch 1:  LOSS: 1.8112430572509766 ACCURACY: 0.46839994192123413\n",
      "Epoch  2, CIFAR-10 Batch 2:  LOSS: 1.507328987121582 ACCURACY: 0.48099997639656067\n",
      "Epoch  2, CIFAR-10 Batch 3:  LOSS: 1.192160725593567 ACCURACY: 0.4707999527454376\n",
      "Epoch  2, CIFAR-10 Batch 4:  LOSS: 1.4242075681686401 ACCURACY: 0.48379993438720703\n",
      "Epoch  2, CIFAR-10 Batch 5:  LOSS: 1.4553468227386475 ACCURACY: 0.4957999289035797\n",
      "Epoch  3, CIFAR-10 Batch 1:  LOSS: 1.6285206079483032 ACCURACY: 0.5031999349594116\n",
      "Epoch  3, CIFAR-10 Batch 2:  LOSS: 1.4226317405700684 ACCURACY: 0.5109999179840088\n",
      "Epoch  3, CIFAR-10 Batch 3:  LOSS: 1.0748060941696167 ACCURACY: 0.5099999308586121\n",
      "Epoch  3, CIFAR-10 Batch 4:  LOSS: 1.2698349952697754 ACCURACY: 0.5099999308586121\n",
      "Epoch  3, CIFAR-10 Batch 5:  LOSS: 1.2560434341430664 ACCURACY: 0.5173999667167664\n",
      "Epoch  4, CIFAR-10 Batch 1:  LOSS: 1.5850763320922852 ACCURACY: 0.5167999863624573\n",
      "Epoch  4, CIFAR-10 Batch 2:  LOSS: 1.3788377046585083 ACCURACY: 0.5281999707221985\n",
      "Epoch  4, CIFAR-10 Batch 3:  LOSS: 0.9597392082214355 ACCURACY: 0.5225999355316162\n",
      "Epoch  4, CIFAR-10 Batch 4:  LOSS: 1.1492197513580322 ACCURACY: 0.5315999388694763\n",
      "Epoch  4, CIFAR-10 Batch 5:  LOSS: 1.249157428741455 ACCURACY: 0.5327998995780945\n",
      "Epoch  5, CIFAR-10 Batch 1:  LOSS: 1.498189926147461 ACCURACY: 0.5235999226570129\n",
      "Epoch  5, CIFAR-10 Batch 2:  LOSS: 1.2281286716461182 ACCURACY: 0.5405999422073364\n",
      "Epoch  5, CIFAR-10 Batch 3:  LOSS: 0.9986960887908936 ACCURACY: 0.5305999517440796\n",
      "Epoch  5, CIFAR-10 Batch 4:  LOSS: 1.1814961433410645 ACCURACY: 0.5307999849319458\n",
      "Epoch  5, CIFAR-10 Batch 5:  LOSS: 1.1726360321044922 ACCURACY: 0.5417999029159546\n",
      "Epoch  6, CIFAR-10 Batch 1:  LOSS: 1.455273151397705 ACCURACY: 0.5261999368667603\n",
      "Epoch  6, CIFAR-10 Batch 2:  LOSS: 1.218657374382019 ACCURACY: 0.5381999015808105\n",
      "Epoch  6, CIFAR-10 Batch 3:  LOSS: 0.997870922088623 ACCURACY: 0.5323999524116516\n",
      "Epoch  6, CIFAR-10 Batch 4:  LOSS: 1.1372406482696533 ACCURACY: 0.538599967956543\n",
      "Epoch  6, CIFAR-10 Batch 5:  LOSS: 1.2674615383148193 ACCURACY: 0.5467999577522278\n",
      "Epoch  7, CIFAR-10 Batch 1:  LOSS: 1.4467602968215942 ACCURACY: 0.5389999151229858\n",
      "Epoch  7, CIFAR-10 Batch 2:  LOSS: 1.1825743913650513 ACCURACY: 0.5413999557495117\n",
      "Epoch  7, CIFAR-10 Batch 3:  LOSS: 1.0059469938278198 ACCURACY: 0.5421999096870422\n",
      "Epoch  7, CIFAR-10 Batch 4:  LOSS: 1.1168115139007568 ACCURACY: 0.5381999015808105\n",
      "Epoch  7, CIFAR-10 Batch 5:  LOSS: 1.203713059425354 ACCURACY: 0.5447999238967896\n",
      "Epoch  8, CIFAR-10 Batch 1:  LOSS: 1.347930669784546 ACCURACY: 0.549799919128418\n",
      "Epoch  8, CIFAR-10 Batch 2:  LOSS: 1.1817532777786255 ACCURACY: 0.556399941444397\n",
      "Epoch  8, CIFAR-10 Batch 3:  LOSS: 0.9436111450195312 ACCURACY: 0.5457999110221863\n",
      "Epoch  8, CIFAR-10 Batch 4:  LOSS: 1.1861194372177124 ACCURACY: 0.5453999042510986\n",
      "Epoch  8, CIFAR-10 Batch 5:  LOSS: 1.1620187759399414 ACCURACY: 0.556399941444397\n",
      "Epoch  9, CIFAR-10 Batch 1:  LOSS: 1.3741599321365356 ACCURACY: 0.5491999387741089\n",
      "Epoch  9, CIFAR-10 Batch 2:  LOSS: 1.160874843597412 ACCURACY: 0.553399920463562\n",
      "Epoch  9, CIFAR-10 Batch 3:  LOSS: 0.934807538986206 ACCURACY: 0.558199942111969\n",
      "Epoch  9, CIFAR-10 Batch 4:  LOSS: 1.127305507659912 ACCURACY: 0.5487999320030212\n",
      "Epoch  9, CIFAR-10 Batch 5:  LOSS: 1.0096924304962158 ACCURACY: 0.5629999041557312\n",
      "Epoch 10, CIFAR-10 Batch 1:  LOSS: 1.2104719877243042 ACCURACY: 0.5525999069213867\n",
      "Epoch 10, CIFAR-10 Batch 2:  LOSS: 1.1852490901947021 ACCURACY: 0.5527999401092529\n",
      "Epoch 10, CIFAR-10 Batch 3:  LOSS: 0.8531429171562195 ACCURACY: 0.5532000064849854\n",
      "Epoch 10, CIFAR-10 Batch 4:  LOSS: 1.1282615661621094 ACCURACY: 0.5523999929428101\n",
      "Epoch 10, CIFAR-10 Batch 5:  LOSS: 1.1429238319396973 ACCURACY: 0.5597999691963196\n",
      "Epoch 11, CIFAR-10 Batch 1:  LOSS: 1.305076241493225 ACCURACY: 0.5513999462127686\n",
      "Epoch 11, CIFAR-10 Batch 2:  LOSS: 1.0987391471862793 ACCURACY: 0.559999942779541\n",
      "Epoch 11, CIFAR-10 Batch 3:  LOSS: 0.7941169142723083 ACCURACY: 0.5557999014854431\n",
      "Epoch 11, CIFAR-10 Batch 4:  LOSS: 1.090401530265808 ACCURACY: 0.5517999529838562\n",
      "Epoch 11, CIFAR-10 Batch 5:  LOSS: 1.0492407083511353 ACCURACY: 0.5653999447822571\n",
      "Epoch 12, CIFAR-10 Batch 1:  LOSS: 1.2931303977966309 ACCURACY: 0.5621999502182007\n",
      "Epoch 12, CIFAR-10 Batch 2:  LOSS: 1.120497703552246 ACCURACY: 0.5613999366760254\n",
      "Epoch 12, CIFAR-10 Batch 3:  LOSS: 0.8390757441520691 ACCURACY: 0.5583999752998352\n",
      "Epoch 12, CIFAR-10 Batch 4:  LOSS: 1.105570912361145 ACCURACY: 0.5555999279022217\n",
      "Epoch 12, CIFAR-10 Batch 5:  LOSS: 1.1085734367370605 ACCURACY: 0.5695998668670654\n",
      "Epoch 13, CIFAR-10 Batch 1:  LOSS: 1.28822922706604 ACCURACY: 0.5613999366760254\n",
      "Epoch 13, CIFAR-10 Batch 2:  LOSS: 1.118977427482605 ACCURACY: 0.5647999048233032\n",
      "Epoch 13, CIFAR-10 Batch 3:  LOSS: 0.8472001552581787 ACCURACY: 0.5521999597549438\n",
      "Epoch 13, CIFAR-10 Batch 4:  LOSS: 1.084308385848999 ACCURACY: 0.5575999617576599\n",
      "Epoch 13, CIFAR-10 Batch 5:  LOSS: 1.0649924278259277 ACCURACY: 0.5677999258041382\n",
      "Epoch 14, CIFAR-10 Batch 1:  LOSS: 1.302493691444397 ACCURACY: 0.5659999847412109\n",
      "Epoch 14, CIFAR-10 Batch 2:  LOSS: 1.0305198431015015 ACCURACY: 0.5679998993873596\n",
      "Epoch 14, CIFAR-10 Batch 3:  LOSS: 0.7867381572723389 ACCURACY: 0.5627999305725098\n",
      "Epoch 14, CIFAR-10 Batch 4:  LOSS: 1.0468800067901611 ACCURACY: 0.5659999847412109\n",
      "Epoch 14, CIFAR-10 Batch 5:  LOSS: 1.0634913444519043 ACCURACY: 0.5759999752044678\n",
      "Epoch 15, CIFAR-10 Batch 1:  LOSS: 1.1960089206695557 ACCURACY: 0.5669999718666077\n",
      "Epoch 15, CIFAR-10 Batch 2:  LOSS: 1.0945045948028564 ACCURACY: 0.5689999461174011\n",
      "Epoch 15, CIFAR-10 Batch 3:  LOSS: 0.7399844527244568 ACCURACY: 0.5653999447822571\n",
      "Epoch 15, CIFAR-10 Batch 4:  LOSS: 1.0833194255828857 ACCURACY: 0.5709999203681946\n",
      "Epoch 15, CIFAR-10 Batch 5:  LOSS: 0.8928005695343018 ACCURACY: 0.572399914264679\n",
      "Epoch 16, CIFAR-10 Batch 1:  LOSS: 1.1462815999984741 ACCURACY: 0.5693999528884888\n",
      "Epoch 16, CIFAR-10 Batch 2:  LOSS: 1.0376332998275757 ACCURACY: 0.5737999081611633\n",
      "Epoch 16, CIFAR-10 Batch 3:  LOSS: 0.7267956733703613 ACCURACY: 0.5673998594284058\n",
      "Epoch 16, CIFAR-10 Batch 4:  LOSS: 1.1155588626861572 ACCURACY: 0.5725999474525452\n",
      "Epoch 16, CIFAR-10 Batch 5:  LOSS: 1.0776722431182861 ACCURACY: 0.5767999291419983\n",
      "Epoch 17, CIFAR-10 Batch 1:  LOSS: 1.079162359237671 ACCURACY: 0.572399914264679\n",
      "Epoch 17, CIFAR-10 Batch 2:  LOSS: 0.9644486904144287 ACCURACY: 0.5687999725341797\n",
      "Epoch 17, CIFAR-10 Batch 3:  LOSS: 0.6958537101745605 ACCURACY: 0.5663999915122986\n",
      "Epoch 17, CIFAR-10 Batch 4:  LOSS: 1.034247875213623 ACCURACY: 0.5725999474525452\n",
      "Epoch 17, CIFAR-10 Batch 5:  LOSS: 0.9957485198974609 ACCURACY: 0.5829999446868896\n",
      "Epoch 18, CIFAR-10 Batch 1:  LOSS: 1.2085622549057007 ACCURACY: 0.5781999230384827\n",
      "Epoch 18, CIFAR-10 Batch 2:  LOSS: 0.9543991684913635 ACCURACY: 0.5753999352455139\n",
      "Epoch 18, CIFAR-10 Batch 3:  LOSS: 0.7055912017822266 ACCURACY: 0.5765998959541321\n",
      "Epoch 18, CIFAR-10 Batch 4:  LOSS: 1.0259366035461426 ACCURACY: 0.575999915599823\n",
      "Epoch 18, CIFAR-10 Batch 5:  LOSS: 1.1143732070922852 ACCURACY: 0.5749999284744263\n",
      "Epoch 19, CIFAR-10 Batch 1:  LOSS: 1.1234633922576904 ACCURACY: 0.5785999298095703\n",
      "Epoch 19, CIFAR-10 Batch 2:  LOSS: 0.9259863495826721 ACCURACY: 0.5781999826431274\n",
      "Epoch 19, CIFAR-10 Batch 3:  LOSS: 0.7487047910690308 ACCURACY: 0.5743998885154724\n",
      "Epoch 19, CIFAR-10 Batch 4:  LOSS: 0.9937346577644348 ACCURACY: 0.5723999738693237\n",
      "Epoch 19, CIFAR-10 Batch 5:  LOSS: 0.897088885307312 ACCURACY: 0.5769999623298645\n",
      "Epoch 20, CIFAR-10 Batch 1:  LOSS: 1.124704122543335 ACCURACY: 0.5859999060630798\n",
      "Epoch 20, CIFAR-10 Batch 2:  LOSS: 0.9155774116516113 ACCURACY: 0.5765998959541321\n",
      "Epoch 20, CIFAR-10 Batch 3:  LOSS: 0.7940329313278198 ACCURACY: 0.5709999799728394\n",
      "Epoch 20, CIFAR-10 Batch 4:  LOSS: 0.9477410316467285 ACCURACY: 0.58079993724823\n",
      "Epoch 20, CIFAR-10 Batch 5:  LOSS: 0.9654996991157532 ACCURACY: 0.584399938583374\n",
      "Epoch 21, CIFAR-10 Batch 1:  LOSS: 1.0170550346374512 ACCURACY: 0.5811999440193176\n",
      "Epoch 21, CIFAR-10 Batch 2:  LOSS: 0.9416187405586243 ACCURACY: 0.5797998905181885\n",
      "Epoch 21, CIFAR-10 Batch 3:  LOSS: 0.7681187987327576 ACCURACY: 0.5819998979568481\n",
      "Epoch 21, CIFAR-10 Batch 4:  LOSS: 0.9099901914596558 ACCURACY: 0.578999936580658\n",
      "Epoch 21, CIFAR-10 Batch 5:  LOSS: 1.0263322591781616 ACCURACY: 0.5757999420166016\n",
      "Epoch 22, CIFAR-10 Batch 1:  LOSS: 1.0336577892303467 ACCURACY: 0.5791999101638794\n",
      "Epoch 22, CIFAR-10 Batch 2:  LOSS: 0.9188756346702576 ACCURACY: 0.5791999101638794\n",
      "Epoch 22, CIFAR-10 Batch 3:  LOSS: 0.7150746583938599 ACCURACY: 0.5849999189376831\n",
      "Epoch 22, CIFAR-10 Batch 4:  LOSS: 0.9903316497802734 ACCURACY: 0.5821999311447144\n",
      "Epoch 22, CIFAR-10 Batch 5:  LOSS: 0.9249504208564758 ACCURACY: 0.5821998715400696\n",
      "Epoch 23, CIFAR-10 Batch 1:  LOSS: 1.1435273885726929 ACCURACY: 0.5765999555587769\n",
      "Epoch 23, CIFAR-10 Batch 2:  LOSS: 0.9395318031311035 ACCURACY: 0.5793999433517456\n",
      "Epoch 23, CIFAR-10 Batch 3:  LOSS: 0.7876878380775452 ACCURACY: 0.5831999778747559\n",
      "Epoch 23, CIFAR-10 Batch 4:  LOSS: 0.8842772841453552 ACCURACY: 0.5821999907493591\n",
      "Epoch 23, CIFAR-10 Batch 5:  LOSS: 0.9338389039039612 ACCURACY: 0.5787999629974365\n",
      "Epoch 24, CIFAR-10 Batch 1:  LOSS: 1.0381921529769897 ACCURACY: 0.5825998783111572\n",
      "Epoch 24, CIFAR-10 Batch 2:  LOSS: 0.826046884059906 ACCURACY: 0.5821999907493591\n",
      "Epoch 24, CIFAR-10 Batch 3:  LOSS: 0.7529118657112122 ACCURACY: 0.5797998905181885\n",
      "Epoch 24, CIFAR-10 Batch 4:  LOSS: 0.8747301697731018 ACCURACY: 0.5815998911857605\n",
      "Epoch 24, CIFAR-10 Batch 5:  LOSS: 0.8373615145683289 ACCURACY: 0.5829999446868896\n",
      "Epoch 25, CIFAR-10 Batch 1:  LOSS: 1.0677788257598877 ACCURACY: 0.5815998911857605\n",
      "Epoch 25, CIFAR-10 Batch 2:  LOSS: 0.9118223190307617 ACCURACY: 0.5849999189376831\n",
      "Epoch 25, CIFAR-10 Batch 3:  LOSS: 0.7047930359840393 ACCURACY: 0.5779999494552612\n",
      "Epoch 25, CIFAR-10 Batch 4:  LOSS: 0.9619134068489075 ACCURACY: 0.5859999656677246\n",
      "Epoch 25, CIFAR-10 Batch 5:  LOSS: 0.9298858642578125 ACCURACY: 0.5835999250411987\n"
     ]
    }
   ],
   "source": [
    "\"\"\"\n",
    "DON'T MODIFY ANYTHING IN THIS CELL\n",
    "\"\"\"\n",
    "save_model_path = './image_classification'\n",
    "\n",
    "print('Training...')\n",
    "with tf.Session() as sess:\n",
    "    # Initializing the variables\n",
    "    sess.run(tf.global_variables_initializer())\n",
    "    \n",
    "    # Training cycle\n",
    "    for epoch in range(epochs):\n",
    "        # Loop over all batches\n",
    "        n_batches = 5\n",
    "        for batch_i in range(1, n_batches + 1):\n",
    "            for batch_features, batch_labels in helper.load_preprocess_training_batch(batch_i, batch_size):\n",
    "                train_neural_network(sess, optimizer, keep_probability, batch_features, batch_labels)\n",
    "            print('Epoch {:>2}, CIFAR-10 Batch {}:  '.format(epoch + 1, batch_i), end='')\n",
    "            print_stats(sess, batch_features, batch_labels, cost, accuracy)\n",
    "            \n",
    "    # Save Model\n",
    "    saver = tf.train.Saver()\n",
    "    save_path = saver.save(sess, save_model_path)"
   ]
  },
  {
   "cell_type": "markdown",
   "metadata": {
    "deletable": true,
    "editable": true
   },
   "source": [
    "# Checkpoint\n",
    "The model has been saved to disk.\n",
    "## Test Model\n",
    "Test your model against the test dataset.  This will be your final accuracy. You should have an accuracy greater than 50%. If you don't, keep tweaking the model architecture and parameters."
   ]
  },
  {
   "cell_type": "code",
   "execution_count": 18,
   "metadata": {
    "collapsed": false,
    "deletable": true,
    "editable": true
   },
   "outputs": [
    {
     "name": "stdout",
     "output_type": "stream",
     "text": [
      "Testing Accuracy: 0.5850915605095541\n",
      "\n"
     ]
    },
    {
     "data": {
      "image/png": "[encoded data removed]",
      "text/plain": [
       "<matplotlib.figure.Figure at 0x28cf27ef550>"
      ]
     },
     "metadata": {
      "image/png": {
       "height": 319,
       "width": 355
      }
     },
     "output_type": "display_data"
    }
   ],
   "source": [
    "\"\"\"\n",
    "DON'T MODIFY ANYTHING IN THIS CELL\n",
    "\"\"\"\n",
    "%matplotlib inline\n",
    "%config InlineBackend.figure_format = 'retina'\n",
    "\n",
    "import tensorflow as tf\n",
    "import pickle\n",
    "import helper\n",
    "import random\n",
    "\n",
    "# Set batch size if not already set\n",
    "try:\n",
    "    if batch_size:\n",
    "        pass\n",
    "except NameError:\n",
    "    batch_size = 64\n",
    "\n",
    "save_model_path = './image_classification'\n",
    "n_samples = 4\n",
    "top_n_predictions = 3\n",
    "\n",
    "def test_model():\n",
    "    \"\"\"\n",
    "    Test the saved model against the test dataset\n",
    "    \"\"\"\n",
    "\n",
    "    test_features, test_labels = pickle.load(open('preprocess_training.p', mode='rb'))\n",
    "    loaded_graph = tf.Graph()\n",
    "\n",
    "    with tf.Session(graph=loaded_graph) as sess:\n",
    "        # Load model\n",
    "        loader = tf.train.import_meta_graph(save_model_path + '.meta')\n",
    "        loader.restore(sess, save_model_path)\n",
    "\n",
    "        # Get Tensors from loaded model\n",
    "        loaded_x = loaded_graph.get_tensor_by_name('x:0')\n",
    "        loaded_y = loaded_graph.get_tensor_by_name('y:0')\n",
    "        loaded_keep_prob = loaded_graph.get_tensor_by_name('keep_prob:0')\n",
    "        loaded_logits = loaded_graph.get_tensor_by_name('logits:0')\n",
    "        loaded_acc = loaded_graph.get_tensor_by_name('accuracy:0')\n",
    "        \n",
    "        # Get accuracy in batches for memory limitations\n",
    "        test_batch_acc_total = 0\n",
    "        test_batch_count = 0\n",
    "        \n",
    "        for train_feature_batch, train_label_batch in helper.batch_features_labels(test_features, test_labels, batch_size):\n",
    "            test_batch_acc_total += sess.run(\n",
    "                loaded_acc,\n",
    "                feed_dict={loaded_x: train_feature_batch, loaded_y: train_label_batch, loaded_keep_prob: 1.0})\n",
    "            test_batch_count += 1\n",
    "\n",
    "        print('Testing Accuracy: {}\\n'.format(test_batch_acc_total/test_batch_count))\n",
    "\n",
    "        # Print Random Samples\n",
    "        random_test_features, random_test_labels = tuple(zip(*random.sample(list(zip(test_features, test_labels)), n_samples)))\n",
    "        random_test_predictions = sess.run(\n",
    "            tf.nn.top_k(tf.nn.softmax(loaded_logits), top_n_predictions),\n",
    "            feed_dict={loaded_x: random_test_features, loaded_y: random_test_labels, loaded_keep_prob: 1.0})\n",
    "        helper.display_image_predictions(random_test_features, random_test_labels, random_test_predictions)\n",
    "\n",
    "\n",
    "test_model()"
   ]
  },
  {
   "cell_type": "markdown",
   "metadata": {
    "deletable": true,
    "editable": true
   },
   "source": [
    "## Why 50-80% Accuracy?\n",
    "You might be wondering why you can't get an accuracy any higher. First things first, 50% isn't bad for a simple CNN.  Pure guessing would get you 10% accuracy. However, you might notice people are getting scores [well above 80%](http://rodrigob.github.io/are_we_there_yet/build/classification_datasets_results.html#43494641522d3130).  That's because we haven't taught you all there is to know about neural networks. We still need to cover a few more techniques.\n",
    "## Submitting This Project\n",
    "When submitting this project, make sure to run all the cells before saving the notebook.  Save the notebook file as \"dlnd_image_classification.ipynb\" and save it as a HTML file under \"File\" -> \"Download as\".  Include the \"helper.py\" and \"problem_unittests.py\" files in your submission."
   ]
  }
 ],
 "metadata": {
  "kernelspec": {
   "display_name": "Python 3",
   "language": "python",
   "name": "python3"
  },
  "language_info": {
   "codemirror_mode": {
    "name": "ipython",
    "version": 3
   },
   "file_extension": ".py",
   "mimetype": "text/x-python",
   "name": "python",
   "nbconvert_exporter": "python",
   "pygments_lexer": "ipython3",
   "version": "3.5.2"
  },
  "widgets": {
   "state": {},
   "version": "1.1.2"
  }
 },
 "nbformat": 4,
 "nbformat_minor": 0
}
